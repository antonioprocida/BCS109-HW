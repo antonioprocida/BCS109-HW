{
  "nbformat": 4,
  "nbformat_minor": 0,
  "metadata": {
    "colab": {
      "name": "BCS 109 HW#9",
      "provenance": [],
      "collapsed_sections": [],
      "authorship_tag": "ABX9TyMrobzL7HkWF9qVwW+Wpm3M",
      "include_colab_link": true
    },
    "kernelspec": {
      "name": "python3",
      "display_name": "Python 3"
    },
    "language_info": {
      "name": "python"
    }
  },
  "cells": [
    {
      "cell_type": "markdown",
      "metadata": {
        "id": "view-in-github",
        "colab_type": "text"
      },
      "source": [
        "<a href=\"https://colab.research.google.com/github/antonioprocida/BCS109-HW/blob/main/BCS_109_HW_9.ipynb\" target=\"_parent\"><img src=\"https://colab.research.google.com/assets/colab-badge.svg\" alt=\"Open In Colab\"/></a>"
      ]
    },
    {
      "cell_type": "code",
      "execution_count": null,
      "metadata": {
        "id": "IT-Lqn9LcFXD",
        "colab": {
          "base_uri": "https://localhost:8080/"
        },
        "outputId": "3f1942ac-1be8-46b7-bb2f-f0a3e0536cf0"
      },
      "outputs": [
        {
          "output_type": "stream",
          "name": "stdout",
          "text": [
            "13\n",
            "5.683245170896967\n",
            "4.070217029430577\n"
          ]
        }
      ],
      "source": [
        "import numpy as np\n",
        "import math as m\n",
        "\n",
        "def theMax(numbers):\n",
        "  my_max = numbers[0]\n",
        "  for i in numbers:\n",
        "    if my_max < i:\n",
        "      my_max = i\n",
        "  return my_max\n",
        "\n",
        "def theMin(numbers):\n",
        "  my_min = numbers[o]\n",
        "  for i in numbers:\n",
        "    if my_min > i:\n",
        "      my_min = i\n",
        "  return my_min\n",
        "\n",
        "def theAverage(numbers):\n",
        "  total = 0\n",
        "  for i in numbers:\n",
        "    total += i\n",
        "  return total/len(numbers)\n",
        "\n",
        "def theGeoMean(numbers):\n",
        "  total = 1\n",
        "  for i in numbers:\n",
        "    total *= i\n",
        "  return total**(1/len(numbers))\n",
        "\n",
        "def theStandardDev(numbers):\n",
        "  theAvg = theAverage(numbers)\n",
        "  total = 0\n",
        "  for i in numbers:\n",
        "    total = total + (i-theAvg)**2\n",
        "  return m.sqrt(total/(len(numbers)-1))\n",
        "\n",
        "a = [8,6,2,9,13,3]\n",
        "print(theMax(a))\n",
        "print(theGeoMean(a))\n",
        "print(theStandardDev(a))"
      ]
    },
    {
      "cell_type": "code",
      "source": [
        "def circleArea(radius):\n",
        "  return m.pi*radius**2\n",
        "\n",
        "def rectangleArea(length,width):\n",
        "  return length*width\n",
        "\n",
        "def squareArea(side):\n",
        "  return side*side\n",
        "\n",
        "def triangleArea(base,height):\n",
        "  return base*height/2\n",
        "\n",
        "def generalArea():\n",
        "  value = input(\"which would you like to know the area of? [circle, square, rectangle, triangle] \")\n",
        "  if value == 'circle':\n",
        "    radius = float(input(\"what is the radius?\"))\n",
        "    print(f\"the area is {circleArea(radius)}. \")\n",
        "  elif value == \"rectangle\":\n",
        "    length = float(input(\"what is the length?\"))\n",
        "    width = float(input(\"what is the width?\"))\n",
        "    print(f\"the area is {rectangleArea(length,width)}. \")\n",
        "  elif value == \"square\":\n",
        "    side = float(input(\"what is the side?\"))\n",
        "    print(f'the area is {squareArea(side)}. ')\n",
        "  elif value == \"triangle\":\n",
        "    base = float(input(\"what is the base?\"))\n",
        "    height = float(input(\"what is the height?\"))\n",
        "    print(f'the area is {triangleArea(base,height)}.')\n",
        "generalArea()"
      ],
      "metadata": {
        "colab": {
          "base_uri": "https://localhost:8080/"
        },
        "id": "7_5ChCuatdlN",
        "outputId": "f14e6cfb-b194-476a-add6-e9299b68edd8"
      },
      "execution_count": 1,
      "outputs": [
        {
          "output_type": "stream",
          "name": "stdout",
          "text": [
            "which would you like to know the area of? [circle, square, rectangle, triangle] triangle\n",
            "what is the base?3\n",
            "what is the height?4\n",
            "the area is 6.0.\n"
          ]
        }
      ]
    },
    {
      "cell_type": "code",
      "source": [
        "import numpy as np\n",
        "\n",
        "def listDoubling():\n",
        "  x = [1,2,3]\n",
        "  y = [1,2,3]\n",
        "  choice = int(input(\"Would you like it doubled by way one (1) or by way two (2)? \"))\n",
        "  if choice == 1:\n",
        "    print(x+y)\n",
        "  else:\n",
        "    print(np.array(x)+np.array(y))\n",
        "\n",
        "listDoubling()"
      ],
      "metadata": {
        "colab": {
          "base_uri": "https://localhost:8080/"
        },
        "id": "6xVKWR_kv9oA",
        "outputId": "364d101e-8cb6-4b60-c4c6-334ae46edf46"
      },
      "execution_count": null,
      "outputs": [
        {
          "output_type": "stream",
          "name": "stdout",
          "text": [
            "Would you like it doubled by way one (1) or by way two (2)? 2\n",
            "[2 4 6]\n"
          ]
        }
      ]
    },
    {
      "cell_type": "code",
      "source": [
        "def concatenatePositions(list1, list2):\n",
        "  myBigList = []\n",
        "  for i in range(len(list1)):\n",
        "    myBigList.append(int(str(list1[i])+str(list2[i])))\n",
        "  return myBigList\n",
        "\n",
        "list1 = [1,2,3]\n",
        "list2 = [7,8,9]\n",
        "bigList = concatenatePositions(list1,list2)\n",
        "print(bigList)"
      ],
      "metadata": {
        "colab": {
          "base_uri": "https://localhost:8080/"
        },
        "id": "xXeS84OExQp-",
        "outputId": "1a4c18ca-e020-4285-b02c-7ffbf31cae5b"
      },
      "execution_count": null,
      "outputs": [
        {
          "output_type": "stream",
          "name": "stdout",
          "text": [
            "[17, 28, 39]\n"
          ]
        }
      ]
    },
    {
      "cell_type": "code",
      "source": [
        "def isPrime(num):\n",
        "  for i in range(2,num):\n",
        "    if (num%i == 0):\n",
        "      return False\n",
        "  return True\n",
        "\n",
        "def listPrimes(amount):\n",
        "  #an empty list\n",
        "  myList = []\n",
        "  count = 0\n",
        "  checkVal = 2\n",
        "  while (count < amount):\n",
        "    if(isPrime(checkVal)):\n",
        "      myList.append(checkVal)\n",
        "      count+= 1\n",
        "    checkVal += 1\n",
        "  return myList\n",
        "\n",
        "print(listPrimes(100))"
      ],
      "metadata": {
        "colab": {
          "base_uri": "https://localhost:8080/"
        },
        "id": "cmjIAfM3zU3B",
        "outputId": "cfdb28da-093c-484d-ed65-a960d8437012"
      },
      "execution_count": null,
      "outputs": [
        {
          "output_type": "stream",
          "name": "stdout",
          "text": [
            "[2, 3, 5, 7, 11, 13, 17, 19, 23, 29, 31, 37, 41, 43, 47, 53, 59, 61, 67, 71, 73, 79, 83, 89, 97, 101, 103, 107, 109, 113, 127, 131, 137, 139, 149, 151, 157, 163, 167, 173, 179, 181, 191, 193, 197, 199, 211, 223, 227, 229, 233, 239, 241, 251, 257, 263, 269, 271, 277, 281, 283, 293, 307, 311, 313, 317, 331, 337, 347, 349, 353, 359, 367, 373, 379, 383, 389, 397, 401, 409, 419, 421, 431, 433, 439, 443, 449, 457, 461, 463, 467, 479, 487, 491, 499, 503, 509, 521, 523, 541]\n"
          ]
        }
      ]
    },
    {
      "cell_type": "code",
      "source": [
        "def calculation(one,two):\n",
        "  return one*two,one/two\n",
        "\n",
        "myVal = calculation(9,2)\n",
        "print(myVal[0])\n",
        "print(myVal[1])"
      ],
      "metadata": {
        "colab": {
          "base_uri": "https://localhost:8080/"
        },
        "id": "5Qsl4iCG08bA",
        "outputId": "32266d99-95e7-4b43-a53c-16373511464a"
      },
      "execution_count": null,
      "outputs": [
        {
          "output_type": "stream",
          "name": "stdout",
          "text": [
            "18\n",
            "4.5\n"
          ]
        }
      ]
    },
    {
      "cell_type": "code",
      "source": [
        "myList = []\n",
        "for i in range(1000):\n",
        "  if (i%3 == 0) or (i%5 == 0):\n",
        "    myList.append(i)\n",
        "\n",
        "total = 0\n",
        "for i in myList:\n",
        "  total = total + i\n",
        "\n",
        "print(total)"
      ],
      "metadata": {
        "colab": {
          "base_uri": "https://localhost:8080/"
        },
        "id": "Hpu32EZX1pGO",
        "outputId": "184378ed-dcd7-485c-b8ba-43442a69fa70"
      },
      "execution_count": null,
      "outputs": [
        {
          "output_type": "stream",
          "name": "stdout",
          "text": [
            "233168\n"
          ]
        }
      ]
    },
    {
      "cell_type": "code",
      "source": [
        "#set up\n",
        "bound = 500\n",
        "numOne = 1\n",
        "numTwo = 1\n",
        "numThree = numOne + numTwo\n",
        "total = 0\n",
        "\n",
        "while(numThree < bound):\n",
        "  numThree = numOne + numTwo\n",
        "  if numThree % 2 == 0 and numThree < bound:\n",
        "    total += numThree\n",
        "  numOne = numTwo\n",
        "  numTwo = numThree\n",
        "\n",
        "print(total)"
      ],
      "metadata": {
        "colab": {
          "base_uri": "https://localhost:8080/"
        },
        "id": "1OvuDgOq2kJN",
        "outputId": "c36221ba-f815-40c0-8d7b-81e86f5da542"
      },
      "execution_count": null,
      "outputs": [
        {
          "output_type": "stream",
          "name": "stdout",
          "text": [
            "188\n"
          ]
        }
      ]
    }
  ]
}