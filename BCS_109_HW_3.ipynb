{
  "nbformat": 4,
  "nbformat_minor": 0,
  "metadata": {
    "colab": {
      "name": "BCS 109 HW#3",
      "provenance": [],
      "authorship_tag": "ABX9TyPnPEgf55cD0dLd9pgNuDP5",
      "include_colab_link": true
    },
    "kernelspec": {
      "name": "python3",
      "display_name": "Python 3"
    },
    "language_info": {
      "name": "python"
    }
  },
  "cells": [
    {
      "cell_type": "markdown",
      "metadata": {
        "id": "view-in-github",
        "colab_type": "text"
      },
      "source": [
        "<a href=\"https://colab.research.google.com/github/antonioprocida/BCS109-HW/blob/main/BCS_109_HW_3.ipynb\" target=\"_parent\"><img src=\"https://colab.research.google.com/assets/colab-badge.svg\" alt=\"Open In Colab\"/></a>"
      ]
    },
    {
      "cell_type": "markdown",
      "source": [
        "#HW3\n",
        "\n",
        "This is an **investment calculator**. If you put in the amount invested, the rate, and the time period, then it will output the return for every five years of that time period. \n",
        "\n",
        "The formula used is:\n",
        "\n",
        "> $Future Value = Principal*(1+rate)^{time}$"
      ],
      "metadata": {
        "id": "2DCbkCvWa0GU"
      }
    },
    {
      "cell_type": "code",
      "execution_count": 20,
      "metadata": {
        "colab": {
          "base_uri": "https://localhost:8080/"
        },
        "id": "28DrsMtLQ3BH",
        "outputId": "83469c34-cf1c-48c9-971f-bef96fcb7d41"
      },
      "outputs": [
        {
          "output_type": "stream",
          "name": "stdout",
          "text": [
            "What is the amount per month you will be investing?\t100\n",
            "What rate do you expect to earn yearly?\t.11\n",
            "How many years do you expect to hold this investment?\t40\n",
            "0 \t$1200.00\n",
            "5 \t$2022.07\n",
            "10 \t$3407.31\n",
            "15 \t$5741.51\n",
            "20 \t$9674.77\n",
            "25 \t$16302.56\n",
            "30 \t$27470.76\n",
            "35 \t$46289.82\n",
            "40 \t$78001.04\n"
          ]
        }
      ],
      "source": [
        "#gather the amount invested\n",
        "principal = float(input(\"What is the amount per month you will be investing?\\t\"))\n",
        "principal *= 12\n",
        "\n",
        "#find out what the rate is and do data validation to ensure it is a percent\n",
        "rate = float(input(\"What rate do you expect to earn yearly?\\t\"))\n",
        "if(rate > 1):\n",
        "  rate/= 100\n",
        "\n",
        "#find out how long this will be for\n",
        "time = int(input(\"How many years do you expect to hold this investment?\\t\"))\n",
        "\n",
        "#calculate the return for every five years\n",
        "for i in range(0,time+1,5):\n",
        "  FV = principal*(1+rate)**i\n",
        "  print(f'{i} \\t${FV:.2f}')"
      ]
    },
    {
      "cell_type": "markdown",
      "source": [
        "##Present Value Calculator"
      ],
      "metadata": {
        "id": "S4U96fD4kVlL"
      }
    },
    {
      "cell_type": "code",
      "source": [
        "#gather the amount invested\n",
        "principal = float(input(\"What is the future value?\\t\"))\n",
        "\n",
        "#find out what the rate is and do data validation to ensure it is a percent\n",
        "rate = float(input(\"What rate do you expect to earn yearly?\\t\"))\n",
        "if(rate > 1):\n",
        "  rate /= 100\n",
        "\n",
        "#find out how long this will be for\n",
        "time = int(input(\"How many years do you expect to hold this investment?\\t\"))\n",
        "\n",
        "output = principal/(1+rate)**time\n",
        "print(f\"The present value of your investment is ${output:,.2f}\")"
      ],
      "metadata": {
        "colab": {
          "base_uri": "https://localhost:8080/"
        },
        "id": "Q5GFDsPxkahT",
        "outputId": "27b37004-7ad3-492d-e65e-319424c9c2bc"
      },
      "execution_count": 26,
      "outputs": [
        {
          "output_type": "stream",
          "name": "stdout",
          "text": [
            "What is the future value?\t100000\n",
            "What rate do you expect to earn yearly?\t.11\n",
            "How many years do you expect to hold this investment?\t30\n",
            "The present value of your investment is $4,368.28\n"
          ]
        }
      ]
    }
  ]
}