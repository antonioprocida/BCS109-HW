{
  "nbformat": 4,
  "nbformat_minor": 0,
  "metadata": {
    "colab": {
      "name": "BCS 109 HW#5",
      "provenance": [],
      "authorship_tag": "ABX9TyNBeGhZ8mVCjEdNHcTuU2Xy",
      "include_colab_link": true
    },
    "kernelspec": {
      "name": "python3",
      "display_name": "Python 3"
    },
    "language_info": {
      "name": "python"
    }
  },
  "cells": [
    {
      "cell_type": "markdown",
      "metadata": {
        "id": "view-in-github",
        "colab_type": "text"
      },
      "source": [
        "<a href=\"https://colab.research.google.com/github/antonioprocida/BCS109-HW/blob/main/BCS_109_HW_5.ipynb\" target=\"_parent\"><img src=\"https://colab.research.google.com/assets/colab-badge.svg\" alt=\"Open In Colab\"/></a>"
      ]
    },
    {
      "cell_type": "markdown",
      "source": [
        "###Ask user for their name and age. Give them three chances to answer properly, otherwise output \"Unacceptable\"."
      ],
      "metadata": {
        "id": "F3GhnMkq_MFV"
      }
    },
    {
      "cell_type": "code",
      "execution_count": 52,
      "metadata": {
        "colab": {
          "base_uri": "https://localhost:8080/"
        },
        "id": "r931objqWe87",
        "outputId": "5030113e-a9ab-49b5-cb22-488535280756"
      },
      "outputs": [
        {
          "output_type": "stream",
          "name": "stdout",
          "text": [
            "Please give me a number for your age\tfour\n",
            "Please give me a number for your age\t5\n",
            "Please give me your name\t40\n",
            "Please give me your name\tantonio\n",
            "Acceptable\n"
          ]
        }
      ],
      "source": [
        "#check that the age given is a number and enforce this\n",
        "nameChances = 1\n",
        "ageChances = 1\n",
        "age = input(\"Please give me a number for your age\\t\")\n",
        "while not(age.isdigit()):\n",
        "  age = input(\"Please give me a number for your age\\t\")\n",
        "  ageChances+=1\n",
        "  if (ageChances >= 3):\n",
        "    print(\"Unacceptable\")\n",
        "    break\n",
        "\n",
        "#convert the age to a number\n",
        "age = int(age)\n",
        "\n",
        "#check that the name is a bunch of letters and not numbers and enforce this\n",
        "name = input(\"Please give me your name\\t\")\n",
        "while not(name.isalpha()):\n",
        "  name = input(\"Please give me your name\\t\")\n",
        "  nameChances +=1\n",
        "  if(nameChances >= 3):\n",
        "    print(\"Unacceptable\")\n",
        "    break\n",
        "\n",
        "if(age >= 1 and age <= 100):\n",
        "  if(name.isalpha()):\n",
        "    print(\"Acceptable\")\n",
        "else:\n",
        "  print(\"Unacceptable\")\n"
      ]
    },
    {
      "cell_type": "markdown",
      "source": [
        "###Print numbers with a 3 in them from 1 to 1000."
      ],
      "metadata": {
        "id": "ttWwkYZu_OSs"
      }
    },
    {
      "cell_type": "code",
      "source": [
        "for x in range(1,1001):\n",
        "  hasThree = False\n",
        "  holder = x\n",
        "\n",
        "  #check if it has a three\n",
        "  while(holder > 0):\n",
        "    if(holder%10 == 3):\n",
        "      hasThree = True\n",
        "      break\n",
        "    holder = holder//10\n",
        "\n",
        "  if(hasThree):\n",
        "    print(x, end= \" \")"
      ],
      "metadata": {
        "id": "kkLuKPBDvW_i",
        "colab": {
          "base_uri": "https://localhost:8080/"
        },
        "outputId": "699709e2-9a5d-43bb-9ae9-25177c933dbe"
      },
      "execution_count": 2,
      "outputs": [
        {
          "output_type": "stream",
          "name": "stdout",
          "text": [
            "3 13 23 30 31 32 33 34 35 36 37 38 39 43 53 63 73 83 93 103 113 123 130 131 132 133 134 135 136 137 138 139 143 153 163 173 183 193 203 213 223 230 231 232 233 234 235 236 237 238 239 243 253 263 273 283 293 300 301 302 303 304 305 306 307 308 309 310 311 312 313 314 315 316 317 318 319 320 321 322 323 324 325 326 327 328 329 330 331 332 333 334 335 336 337 338 339 340 341 342 343 344 345 346 347 348 349 350 351 352 353 354 355 356 357 358 359 360 361 362 363 364 365 366 367 368 369 370 371 372 373 374 375 376 377 378 379 380 381 382 383 384 385 386 387 388 389 390 391 392 393 394 395 396 397 398 399 403 413 423 430 431 432 433 434 435 436 437 438 439 443 453 463 473 483 493 503 513 523 530 531 532 533 534 535 536 537 538 539 543 553 563 573 583 593 603 613 623 630 631 632 633 634 635 636 637 638 639 643 653 663 673 683 693 703 713 723 730 731 732 733 734 735 736 737 738 739 743 753 763 773 783 793 803 813 823 830 831 832 833 834 835 836 837 838 839 843 853 863 873 883 893 903 913 923 930 931 932 933 934 935 936 937 938 939 943 953 963 973 983 993 "
          ]
        }
      ]
    },
    {
      "cell_type": "markdown",
      "source": [
        "###Show numbers whose digits add to 17 from 1 to 10,000."
      ],
      "metadata": {
        "id": "dnxSxwpb_dc8"
      }
    },
    {
      "cell_type": "code",
      "source": [
        "for x in range(1,10001):\n",
        "  total = 0\n",
        "  holder = x\n",
        "\n",
        "  #add the digits together\n",
        "  while(holder >0):\n",
        "    total += holder%10\n",
        "    holder = holder//10\n",
        "\n",
        "  if(total == 17):\n",
        "    print(x, end=\" \")"
      ],
      "metadata": {
        "colab": {
          "base_uri": "https://localhost:8080/"
        },
        "id": "q7TGpkdt_dwM",
        "outputId": "c8aac7bc-d529-4f0d-bbd5-17da39a083a7"
      },
      "execution_count": 3,
      "outputs": [
        {
          "output_type": "stream",
          "name": "stdout",
          "text": [
            "89 98 179 188 197 269 278 287 296 359 368 377 386 395 449 458 467 476 485 494 539 548 557 566 575 584 593 629 638 647 656 665 674 683 692 719 728 737 746 755 764 773 782 791 809 818 827 836 845 854 863 872 881 890 908 917 926 935 944 953 962 971 980 1079 1088 1097 1169 1178 1187 1196 1259 1268 1277 1286 1295 1349 1358 1367 1376 1385 1394 1439 1448 1457 1466 1475 1484 1493 1529 1538 1547 1556 1565 1574 1583 1592 1619 1628 1637 1646 1655 1664 1673 1682 1691 1709 1718 1727 1736 1745 1754 1763 1772 1781 1790 1808 1817 1826 1835 1844 1853 1862 1871 1880 1907 1916 1925 1934 1943 1952 1961 1970 2069 2078 2087 2096 2159 2168 2177 2186 2195 2249 2258 2267 2276 2285 2294 2339 2348 2357 2366 2375 2384 2393 2429 2438 2447 2456 2465 2474 2483 2492 2519 2528 2537 2546 2555 2564 2573 2582 2591 2609 2618 2627 2636 2645 2654 2663 2672 2681 2690 2708 2717 2726 2735 2744 2753 2762 2771 2780 2807 2816 2825 2834 2843 2852 2861 2870 2906 2915 2924 2933 2942 2951 2960 3059 3068 3077 3086 3095 3149 3158 3167 3176 3185 3194 3239 3248 3257 3266 3275 3284 3293 3329 3338 3347 3356 3365 3374 3383 3392 3419 3428 3437 3446 3455 3464 3473 3482 3491 3509 3518 3527 3536 3545 3554 3563 3572 3581 3590 3608 3617 3626 3635 3644 3653 3662 3671 3680 3707 3716 3725 3734 3743 3752 3761 3770 3806 3815 3824 3833 3842 3851 3860 3905 3914 3923 3932 3941 3950 4049 4058 4067 4076 4085 4094 4139 4148 4157 4166 4175 4184 4193 4229 4238 4247 4256 4265 4274 4283 4292 4319 4328 4337 4346 4355 4364 4373 4382 4391 4409 4418 4427 4436 4445 4454 4463 4472 4481 4490 4508 4517 4526 4535 4544 4553 4562 4571 4580 4607 4616 4625 4634 4643 4652 4661 4670 4706 4715 4724 4733 4742 4751 4760 4805 4814 4823 4832 4841 4850 4904 4913 4922 4931 4940 5039 5048 5057 5066 5075 5084 5093 5129 5138 5147 5156 5165 5174 5183 5192 5219 5228 5237 5246 5255 5264 5273 5282 5291 5309 5318 5327 5336 5345 5354 5363 5372 5381 5390 5408 5417 5426 5435 5444 5453 5462 5471 5480 5507 5516 5525 5534 5543 5552 5561 5570 5606 5615 5624 5633 5642 5651 5660 5705 5714 5723 5732 5741 5750 5804 5813 5822 5831 5840 5903 5912 5921 5930 6029 6038 6047 6056 6065 6074 6083 6092 6119 6128 6137 6146 6155 6164 6173 6182 6191 6209 6218 6227 6236 6245 6254 6263 6272 6281 6290 6308 6317 6326 6335 6344 6353 6362 6371 6380 6407 6416 6425 6434 6443 6452 6461 6470 6506 6515 6524 6533 6542 6551 6560 6605 6614 6623 6632 6641 6650 6704 6713 6722 6731 6740 6803 6812 6821 6830 6902 6911 6920 7019 7028 7037 7046 7055 7064 7073 7082 7091 7109 7118 7127 7136 7145 7154 7163 7172 7181 7190 7208 7217 7226 7235 7244 7253 7262 7271 7280 7307 7316 7325 7334 7343 7352 7361 7370 7406 7415 7424 7433 7442 7451 7460 7505 7514 7523 7532 7541 7550 7604 7613 7622 7631 7640 7703 7712 7721 7730 7802 7811 7820 7901 7910 8009 8018 8027 8036 8045 8054 8063 8072 8081 8090 8108 8117 8126 8135 8144 8153 8162 8171 8180 8207 8216 8225 8234 8243 8252 8261 8270 8306 8315 8324 8333 8342 8351 8360 8405 8414 8423 8432 8441 8450 8504 8513 8522 8531 8540 8603 8612 8621 8630 8702 8711 8720 8801 8810 8900 9008 9017 9026 9035 9044 9053 9062 9071 9080 9107 9116 9125 9134 9143 9152 9161 9170 9206 9215 9224 9233 9242 9251 9260 9305 9314 9323 9332 9341 9350 9404 9413 9422 9431 9440 9503 9512 9521 9530 9602 9611 9620 9701 9710 9800 "
          ]
        }
      ]
    },
    {
      "cell_type": "markdown",
      "source": [
        "###Show numbers whose digits add to 23 and have a 3 in them from 1 to 10,000."
      ],
      "metadata": {
        "id": "B5HV_t_C_y0E"
      }
    },
    {
      "cell_type": "code",
      "source": [
        "#pull the digits from a number\n",
        "for i in range(1,10001):\n",
        "  total = 0\n",
        "  hasThree = False\n",
        "  x = holder = i\n",
        "\n",
        "  #check if it has a three\n",
        "  while (holder > 0):\n",
        "    if(holder%10 == 3):\n",
        "      hasThree = True\n",
        "      break\n",
        "    holder = holder // 10\n",
        "\n",
        "  #add the digits together\n",
        "  while(hasThree and x >0):\n",
        "    total += x%10\n",
        "    x = x//10\n",
        "\n",
        "  if(total == 23):\n",
        "    print(i, end=\" \")"
      ],
      "metadata": {
        "colab": {
          "base_uri": "https://localhost:8080/"
        },
        "id": "V6pHUJOm_y_b",
        "outputId": "9cccaec6-4b00-4024-f9e6-b6f29000ac19"
      },
      "execution_count": 4,
      "outputs": [
        {
          "output_type": "stream",
          "name": "stdout",
          "text": [
            "2399 2939 2993 3299 3389 3398 3479 3488 3497 3569 3578 3587 3596 3659 3668 3677 3686 3695 3749 3758 3767 3776 3785 3794 3839 3848 3857 3866 3875 3884 3893 3929 3938 3947 3956 3965 3974 3983 3992 4379 4388 4397 4739 4793 4838 4883 4937 4973 5369 5378 5387 5396 5639 5693 5738 5783 5837 5873 5936 5963 6359 6368 6377 6386 6395 6539 6593 6638 6683 6737 6773 6836 6863 6935 6953 7349 7358 7367 7376 7385 7394 7439 7493 7538 7583 7637 7673 7736 7763 7835 7853 7934 7943 8339 8348 8357 8366 8375 8384 8393 8438 8483 8537 8573 8636 8663 8735 8753 8834 8843 8933 9239 9293 9329 9338 9347 9356 9365 9374 9383 9392 9437 9473 9536 9563 9635 9653 9734 9743 9833 9923 9932 "
          ]
        }
      ]
    },
    {
      "cell_type": "markdown",
      "source": [
        "###Print all even numbers from 1 to 100 backwards"
      ],
      "metadata": {
        "id": "Ns8e---x_8Tb"
      }
    },
    {
      "cell_type": "code",
      "source": [
        "for i in range(100,0,-2):\n",
        "  print(i, end=\" | \")"
      ],
      "metadata": {
        "colab": {
          "base_uri": "https://localhost:8080/"
        },
        "id": "tWa4C0e0_8dj",
        "outputId": "0137048a-beb4-4b9b-c864-486f7e31bea8"
      },
      "execution_count": 5,
      "outputs": [
        {
          "output_type": "stream",
          "name": "stdout",
          "text": [
            "100 | 98 | 96 | 94 | 92 | 90 | 88 | 86 | 84 | 82 | 80 | 78 | 76 | 74 | 72 | 70 | 68 | 66 | 64 | 62 | 60 | 58 | 56 | 54 | 52 | 50 | 48 | 46 | 44 | 42 | 40 | 38 | 36 | 34 | 32 | 30 | 28 | 26 | 24 | 22 | 20 | 18 | 16 | 14 | 12 | 10 | 8 | 6 | 4 | 2 | "
          ]
        }
      ]
    },
    {
      "cell_type": "markdown",
      "source": [
        "###Print all prime numbers from 100 to 1000"
      ],
      "metadata": {
        "id": "3_keMhyPAukj"
      }
    },
    {
      "cell_type": "code",
      "source": [
        "for i in range(100,1001):\n",
        "  isPrime = True\n",
        "\n",
        "  start = 2\n",
        "  while(start < i):\n",
        "    if(i % start == 0):\n",
        "      isPrime = False\n",
        "    start += 1\n",
        "\n",
        "  if(isPrime):\n",
        "    print(i, end=\" | \")"
      ],
      "metadata": {
        "colab": {
          "base_uri": "https://localhost:8080/"
        },
        "id": "-fhUE-rvAu0k",
        "outputId": "feb1edcf-aabb-4fc7-a1a2-e198cb698997"
      },
      "execution_count": 6,
      "outputs": [
        {
          "output_type": "stream",
          "name": "stdout",
          "text": [
            "101 | 103 | 107 | 109 | 113 | 127 | 131 | 137 | 139 | 149 | 151 | 157 | 163 | 167 | 173 | 179 | 181 | 191 | 193 | 197 | 199 | 211 | 223 | 227 | 229 | 233 | 239 | 241 | 251 | 257 | 263 | 269 | 271 | 277 | 281 | 283 | 293 | 307 | 311 | 313 | 317 | 331 | 337 | 347 | 349 | 353 | 359 | 367 | 373 | 379 | 383 | 389 | 397 | 401 | 409 | 419 | 421 | 431 | 433 | 439 | 443 | 449 | 457 | 461 | 463 | 467 | 479 | 487 | 491 | 499 | 503 | 509 | 521 | 523 | 541 | 547 | 557 | 563 | 569 | 571 | 577 | 587 | 593 | 599 | 601 | 607 | 613 | 617 | 619 | 631 | 641 | 643 | 647 | 653 | 659 | 661 | 673 | 677 | 683 | 691 | 701 | 709 | 719 | 727 | 733 | 739 | 743 | 751 | 757 | 761 | 769 | 773 | 787 | 797 | 809 | 811 | 821 | 823 | 827 | 829 | 839 | 853 | 857 | 859 | 863 | 877 | 881 | 883 | 887 | 907 | 911 | 919 | 929 | 937 | 941 | 947 | 953 | 967 | 971 | 977 | 983 | 991 | 997 | "
          ]
        }
      ]
    }
  ]
}