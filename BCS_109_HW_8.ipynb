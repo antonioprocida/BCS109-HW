{
  "nbformat": 4,
  "nbformat_minor": 0,
  "metadata": {
    "colab": {
      "name": "BCS 109 HW#8",
      "provenance": [],
      "authorship_tag": "ABX9TyPV6cVJt+96IIe7i5D5gMD1",
      "include_colab_link": true
    },
    "kernelspec": {
      "name": "python3",
      "display_name": "Python 3"
    },
    "language_info": {
      "name": "python"
    }
  },
  "cells": [
    {
      "cell_type": "markdown",
      "metadata": {
        "id": "view-in-github",
        "colab_type": "text"
      },
      "source": [
        "<a href=\"https://colab.research.google.com/github/antonioprocida/BCS109-HW/blob/main/BCS_109_HW_8.ipynb\" target=\"_parent\"><img src=\"https://colab.research.google.com/assets/colab-badge.svg\" alt=\"Open In Colab\"/></a>"
      ]
    },
    {
      "cell_type": "code",
      "execution_count": null,
      "metadata": {
        "colab": {
          "base_uri": "https://localhost:8080/"
        },
        "id": "oN4gBlt5WT8f",
        "outputId": "714998bc-a431-4eb9-b7c1-0b918fdf0ed0"
      },
      "outputs": [
        {
          "output_type": "stream",
          "name": "stdout",
          "text": [
            "3.5\n",
            "4.5\n",
            "4.69\n"
          ]
        }
      ],
      "source": [
        "import numpy as np\n",
        "\n",
        "#avg of two numbers\n",
        "def avg_of_2(x,y):\n",
        "  return (x+y)/2\n",
        "\n",
        "#avg of a list of numbers\n",
        "def avg_of_list(myNums):\n",
        "  total = 0\n",
        "  for i in myNums:\n",
        "    total = total + i\n",
        "  return total/len(myNums)\n",
        "\n",
        "#getting the weighted average of a np.array\n",
        "def expectedValue1(info, weights):\n",
        "  return (info @ weights)\n",
        "\n",
        "num_one = 2\n",
        "num_two = 5\n",
        "print(avg_of_2(num_one, num_two))\n",
        "\n",
        "z = [1,2,3,4,5,6,7,8]\n",
        "print(avg_of_list(z))\n",
        "\n",
        "info = np.array([2,3,4,5,6])\n",
        "weights = np.array([.1,.15,.07,.32,.36])\n",
        "print(expectedValue1(info,weights))"
      ]
    },
    {
      "cell_type": "code",
      "source": [
        "#sum from a to b\n",
        "def sumRange(a, b):\n",
        "  total = 0\n",
        "  for i in range(a, b+1):\n",
        "    total = total + i\n",
        "  return total\n",
        "print(sumRange(5, 8))"
      ],
      "metadata": {
        "colab": {
          "base_uri": "https://localhost:8080/"
        },
        "id": "rhAW15qUXu7q",
        "outputId": "5ad8ecad-5893-454c-d4c5-71b781fe50f7"
      },
      "execution_count": null,
      "outputs": [
        {
          "output_type": "stream",
          "name": "stdout",
          "text": [
            "26\n"
          ]
        }
      ]
    },
    {
      "cell_type": "code",
      "source": [
        "#output the triangle numbers, or squares, or pentoganol numbers\n",
        "def shapeNumbers(shape):\n",
        "  if(shape == \"triangle\"):\n",
        "    skipVal = 1\n",
        "  elif(shape == \"square\"):\n",
        "    skipVal = 2\n",
        "  elif(shape == \"pentagon\"):\n",
        "    skipVal = 3\n",
        "\n",
        "  total = 0\n",
        "  for i in range(1,100,skipVal):\n",
        "    total = total + i\n",
        "    print(total,end = \" \")\n",
        "  print()\n",
        "\n",
        "shapeNumbers(\"triangle\")\n",
        "shapeNumbers(\"square\")\n",
        "shapeNumbers(\"pentagon\")"
      ],
      "metadata": {
        "colab": {
          "base_uri": "https://localhost:8080/"
        },
        "id": "gpzP90DrbFUp",
        "outputId": "e2149a5f-9a77-42e7-ef02-84b612c160c4"
      },
      "execution_count": null,
      "outputs": [
        {
          "output_type": "stream",
          "name": "stdout",
          "text": [
            "1 3 6 10 15 21 28 36 45 55 66 78 91 105 120 136 153 171 190 210 231 253 276 300 325 351 378 406 435 465 496 528 561 595 630 666 703 741 780 820 861 903 946 990 1035 1081 1128 1176 1225 1275 1326 1378 1431 1485 1540 1596 1653 1711 1770 1830 1891 1953 2016 2080 2145 2211 2278 2346 2415 2485 2556 2628 2701 2775 2850 2926 3003 3081 3160 3240 3321 3403 3486 3570 3655 3741 3828 3916 4005 4095 4186 4278 4371 4465 4560 4656 4753 4851 4950 \n",
            "1 4 9 16 25 36 49 64 81 100 121 144 169 196 225 256 289 324 361 400 441 484 529 576 625 676 729 784 841 900 961 1024 1089 1156 1225 1296 1369 1444 1521 1600 1681 1764 1849 1936 2025 2116 2209 2304 2401 2500 \n",
            "1 5 12 22 35 51 70 92 117 145 176 210 247 287 330 376 425 477 532 590 651 715 782 852 925 1001 1080 1162 1247 1335 1426 1520 1617 \n"
          ]
        }
      ]
    },
    {
      "cell_type": "code",
      "source": [
        "#list of primes below some n\n",
        "#first create a function that tells you if a number is prime\n",
        "def isPrime(number):\n",
        "  for i in range(2, number):\n",
        "    if(number%i == 0):\n",
        "      return False\n",
        "    return True\n",
        "  \n",
        "def listPrimes(number):\n",
        "  for i in range(2, number+1):\n",
        "    if(isPrime(i)):\n",
        "      print(i, end = \" \")\n",
        "\n",
        "listPrimes(100)"
      ],
      "metadata": {
        "colab": {
          "base_uri": "https://localhost:8080/"
        },
        "id": "G7s_QXwXeTVw",
        "outputId": "515af583-8ed8-4877-b0c2-43cf99582525"
      },
      "execution_count": null,
      "outputs": [
        {
          "output_type": "stream",
          "name": "stdout",
          "text": [
            "3 5 7 9 11 13 15 17 19 21 23 25 27 29 31 33 35 37 39 41 43 45 47 49 51 53 55 57 59 61 63 65 67 69 71 73 75 77 79 81 83 85 87 89 91 93 95 97 99 "
          ]
        }
      ]
    },
    {
      "cell_type": "code",
      "source": [
        "#list all numbers below some n that are coprime to it\n",
        "#coprime means that a and b only share 1 as a divisor\n",
        "#for instance 12 shares only a 1 with 1, 5, 7, and 11\n",
        "#the key here is to break down the problem into multiple functions\n",
        "def isCoprime(a, b):\n",
        "  #make sure a < b\n",
        "  if(a > b):\n",
        "    holder = a\n",
        "    a = b\n",
        "    b = holder\n",
        "\n",
        "  for i in range(2,a+1):\n",
        "    if(a%i == 0 and b%i == 0):\n",
        "      return False\n",
        "  return True\n",
        "\n",
        "def listCoprimes(number):\n",
        "  for i in range(1, number):\n",
        "    if(isCoprime(i, number)):\n",
        "      print(i, end = \" \")\n",
        "\n",
        "listCoprimes(12)"
      ],
      "metadata": {
        "colab": {
          "base_uri": "https://localhost:8080/"
        },
        "id": "iU2ZQz3dfuRh",
        "outputId": "dc3e577b-c14a-4c2c-96fc-ee161de7cacc"
      },
      "execution_count": null,
      "outputs": [
        {
          "output_type": "stream",
          "name": "stdout",
          "text": [
            "1 5 7 11 "
          ]
        }
      ]
    },
    {
      "cell_type": "code",
      "source": [
        "#list all numbers below some n that are coprime to it\n",
        "#coprime means that a and b only share 1 as a divisor\n",
        "#for instance 12 shares only a 1 with 1, 5, 7, and 11\n",
        "#the key here is to break down the problem into multiple functions\n",
        "def isCoprime(a, b):\n",
        "  #make sure a < b\n",
        "  if(a > b):\n",
        "    holder = a\n",
        "    a = b\n",
        "    b = holder\n",
        "\n",
        "  for i in range(2,a+1):\n",
        "    if(a%i == 0 and b%i == 0):\n",
        "      return False\n",
        "  return True\n",
        "\n",
        "def listCoprimes(number):\n",
        "  count = 0\n",
        "  for i in range(1, number):\n",
        "    if(isCoprime(i, number)):\n",
        "      count = count+1\n",
        "  print(count)\n",
        "\n",
        "listCoprimes(12)"
      ],
      "metadata": {
        "id": "4pyD3qTviYCK",
        "colab": {
          "base_uri": "https://localhost:8080/"
        },
        "outputId": "610615c5-f056-49a1-8879-8f904640e833"
      },
      "execution_count": 24,
      "outputs": [
        {
          "output_type": "stream",
          "name": "stdout",
          "text": [
            "4\n"
          ]
        }
      ]
    },
    {
      "cell_type": "code",
      "source": [
        "#list twin primes\n",
        "\n",
        "def isTwinPrime(s):\n",
        "  if(isPrime(s) and isPrime(s+2)):\n",
        "    return True\n",
        "  return False\n",
        "\n",
        "def listTwinPrimes(number):\n",
        "  for i in range(2, number+1):\n",
        "    if(isTwinPrime(i)):\n",
        "      print(i, i+2)\n",
        "\n",
        "listTwinPrimes(100)"
      ],
      "metadata": {
        "colab": {
          "base_uri": "https://localhost:8080/"
        },
        "id": "oXdjXQUhieZZ",
        "outputId": "8077a2d2-9a1d-4443-aa06-d50cac388c74"
      },
      "execution_count": null,
      "outputs": [
        {
          "output_type": "stream",
          "name": "stdout",
          "text": [
            "3 5\n",
            "5 7\n",
            "7 9\n",
            "9 11\n",
            "11 13\n",
            "13 15\n",
            "15 17\n",
            "17 19\n",
            "19 21\n",
            "21 23\n",
            "23 25\n",
            "25 27\n",
            "27 29\n",
            "29 31\n",
            "31 33\n",
            "33 35\n",
            "35 37\n",
            "37 39\n",
            "39 41\n",
            "41 43\n",
            "43 45\n",
            "45 47\n",
            "47 49\n",
            "49 51\n",
            "51 53\n",
            "53 55\n",
            "55 57\n",
            "57 59\n",
            "59 61\n",
            "61 63\n",
            "63 65\n",
            "65 67\n",
            "67 69\n",
            "69 71\n",
            "71 73\n",
            "73 75\n",
            "75 77\n",
            "77 79\n",
            "79 81\n",
            "81 83\n",
            "83 85\n",
            "85 87\n",
            "87 89\n",
            "89 91\n",
            "91 93\n",
            "93 95\n",
            "95 97\n",
            "97 99\n",
            "99 101\n"
          ]
        }
      ]
    },
    {
      "cell_type": "code",
      "source": [
        "#testing rock, paper, scissors\n",
        "import random as rnd\n",
        "\n",
        "rock = paper = scissors = 0\n",
        "for i in range(10000):\n",
        "  playerOne = rnd.randint(1,3)\n",
        "  playerTwo = rnd.randint(1,3)\n",
        "\n",
        "  if((playerOne == 1 and playerTwo == 3) or (playerTwo == 1 and playerOne == 3)):\n",
        "    rock = rock+1\n",
        "  elif((playerOne == 2 and playerTwo == 1) or (playerTwo == 2 and playerOne == 1)):\n",
        "    paper = paper+1\n",
        "  elif((playerOne == 3 and playerTwo == 2) or (playerTwo == 3 and playerOne == 2)):\n",
        "    scissors = scissors+1\n",
        "\n",
        "print(rock/10000)\n",
        "print(paper/10000)\n",
        "print(scissors/10000)\n",
        "print((10000-(rock+paper+scissors))/10000)"
      ],
      "metadata": {
        "colab": {
          "base_uri": "https://localhost:8080/"
        },
        "id": "aV6AbxRGrwm8",
        "outputId": "507d15ce-4082-4b17-914a-9f8747b2f1ac"
      },
      "execution_count": null,
      "outputs": [
        {
          "output_type": "stream",
          "name": "stdout",
          "text": [
            "0.215\n",
            "0.2233\n",
            "0.2221\n",
            "0.3396\n"
          ]
        }
      ]
    },
    {
      "cell_type": "code",
      "source": [
        "#Monty Hall Problem\n",
        "import random as rnd\n",
        "\n",
        "def noChange():\n",
        "  #set 1 and 2 to a goat and 3 to a prize\n",
        "  myList = [1,2,3]\n",
        "  rnd.shuffle(myList)\n",
        "  \n",
        "  #set up the goats and prize\n",
        "  doors = ['goat', 'goat', 'goat']\n",
        "  doors[myList.index(3)] = 'prize'\n",
        "\n",
        "  if doors[0] == 'prize':\n",
        "    return True\n",
        "  else:\n",
        "    return False\n",
        "\n",
        "def measureNoChange():\n",
        "  total = 0\n",
        "  for i in range (100000):\n",
        "    if(noChange()):\n",
        "      total = total+1\n",
        "  print(total/100000)\n",
        "\n",
        "measureNoChange()"
      ],
      "metadata": {
        "colab": {
          "base_uri": "https://localhost:8080/"
        },
        "id": "yEm8jNtLumiN",
        "outputId": "9f91cbd4-8deb-41e7-edcf-19963e827cf4"
      },
      "execution_count": null,
      "outputs": [
        {
          "output_type": "stream",
          "name": "stdout",
          "text": [
            "0.33502\n"
          ]
        }
      ]
    },
    {
      "cell_type": "code",
      "source": [
        "def yesChange():\n",
        "  #set 1 and 2 to a goat and 3 to a prize\n",
        "  myList = [1,2,3]\n",
        "  rnd.shuffle(myList)\n",
        "  \n",
        "  #set up the goats and prize\n",
        "  doors = ['goat', 'goat', 'goat']\n",
        "  doors[myList.index(3)] = 'prize'\n",
        "\n",
        "  #let the user choose a door\n",
        "  choice = 0\n",
        "\n",
        "  #create the sublist\n",
        "  toShow = doors[1:3]\n",
        "  door_to_show = toShow.index('goat')\n",
        "\n",
        "  if(door_to_show == 0):\n",
        "    if(doors[2] == 'prize'):\n",
        "      return True\n",
        "    else:\n",
        "      return False\n",
        "  elif(door_to_show == 1):\n",
        "    if(doors[1] == 'prize'):\n",
        "      return True\n",
        "    else:\n",
        "      return False\n",
        "\n",
        "def measureNoChange():\n",
        "  total = 0\n",
        "  for i in range (100000):\n",
        "    if(yesChange()):\n",
        "      total = total+1\n",
        "  print(total/100000)\n",
        "\n",
        "measureNoChange()"
      ],
      "metadata": {
        "colab": {
          "base_uri": "https://localhost:8080/"
        },
        "id": "FgOWr_9R0A39",
        "outputId": "3ec71425-2d64-4798-f662-1063ed5a7eea"
      },
      "execution_count": null,
      "outputs": [
        {
          "output_type": "stream",
          "name": "stdout",
          "text": [
            "0.66738\n"
          ]
        }
      ]
    }
  ]
}