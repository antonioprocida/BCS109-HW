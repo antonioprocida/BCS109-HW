{
  "nbformat": 4,
  "nbformat_minor": 0,
  "metadata": {
    "colab": {
      "name": "BCS 109 HW#4",
      "provenance": [],
      "authorship_tag": "ABX9TyP+FYgNJbtWOF/9wfzcej0x",
      "include_colab_link": true
    },
    "kernelspec": {
      "name": "python3",
      "display_name": "Python 3"
    },
    "language_info": {
      "name": "python"
    }
  },
  "cells": [
    {
      "cell_type": "markdown",
      "metadata": {
        "id": "view-in-github",
        "colab_type": "text"
      },
      "source": [
        "<a href=\"https://colab.research.google.com/github/antonioprocida/BCS109-HW/blob/main/BCS_109_HW_4.ipynb\" target=\"_parent\"><img src=\"https://colab.research.google.com/assets/colab-badge.svg\" alt=\"Open In Colab\"/></a>"
      ]
    },
    {
      "cell_type": "code",
      "execution_count": 89,
      "metadata": {
        "colab": {
          "base_uri": "https://localhost:8080/"
        },
        "id": "vn0f6JL0JTIL",
        "outputId": "279eb25c-6a4e-4dd7-c352-3a0eb8001df1"
      },
      "outputs": [
        {
          "output_type": "stream",
          "name": "stdout",
          "text": [
            "How many packages did you purchase? 45\n",
            "You get a 20% discount.\n",
            "Your purchase will cost: 3,564.00\n"
          ]
        }
      ],
      "source": [
        "numPackages = int(input(\"How many packages did you purchase? \"))\n",
        "totalAmount = numPackages*99\n",
        "\n",
        "if(numPackages < 10):\n",
        "  print(\"You do not get a discount.\")\n",
        "  print(f\"Your purchase will cost: {totalAmount:,.2f}\")\n",
        "if(numPackages >= 10 and numPackages < 20):\n",
        "  print(\"You get a 10% discount.\")\n",
        "  print(f\"Your purchase will cost: {totalAmount*.90:,.2f}\")\n",
        "if(numPackages >= 20 and numPackages < 50):\n",
        "  print(\"You get a 20% discount.\")\n",
        "  print(f\"Your purchase will cost: {totalAmount*.80:,.2f}\")\n",
        "if(numPackages >= 50 and numPackages <= 99):\n",
        "  print(\"You get a 30% discount.\")\n",
        "  print(f\"Your purchase will cost: {totalAmount*.70:,.2f}\")\n",
        "if(numPackages >= 100):\n",
        "  print(\"You get a 40% discount.\")\n",
        "  print(f\"Your purchase will cost: {totalAmount*.60:,.2f}\")"
      ]
    },
    {
      "cell_type": "code",
      "source": [
        "packageWeight = float(input(\"How much does your package weigh? \"))\n",
        "shippingRate = packageWeight\n",
        "\n",
        "if(packageWeight <= 2):\n",
        "  print(f\"The shipping charges will be: {shippingRate * 1.50:,.2f}\")\n",
        "if(packageWeight > 2 and packageWeight <= 6):\n",
        "  print(f\"The shipping charges will be: {shippingRate * 3.00:,.2f}\")\n",
        "if(packageWeight > 6 and packageWeight <= 10):\n",
        "  print(f\"The shipping charges will be: {shippingRate * 4.00:,.2f}\")\n",
        "if(packageWeight > 10):\n",
        "  print(f\"The shipping charges will be: {shippingRate * 4.75:,.2f}\")\n"
      ],
      "metadata": {
        "colab": {
          "base_uri": "https://localhost:8080/"
        },
        "id": "ddRZBPEQPv5s",
        "outputId": "b0bb7516-91e6-4045-f3f7-e26bb77ee4cf"
      },
      "execution_count": 88,
      "outputs": [
        {
          "output_type": "stream",
          "name": "stdout",
          "text": [
            "How much does your package weigh? 12.36\n",
            "The shipping charges will be: 58.71\n"
          ]
        }
      ]
    }
  ]
}