{
  "nbformat": 4,
  "nbformat_minor": 0,
  "metadata": {
    "colab": {
      "name": "BCS 109 HW#2",
      "provenance": []
    },
    "kernelspec": {
      "name": "python3",
      "display_name": "Python 3"
    },
    "language_info": {
      "name": "python"
    }
  },
  "cells": [
    {
      "cell_type": "code",
      "execution_count": null,
      "metadata": {
        "id": "VGFY-CdlM9_N"
      },
      "outputs": [],
      "source": [
        ""
      ]
    },
    {
      "cell_type": "markdown",
      "source": [
        "#HW 2\n",
        "\n",
        "My name is **Antonio Procida**. I am a *triplet*. Here are the names of my siblings and I in birth order.\n",
        "\n",
        "1. Frank\n",
        "2. Antonio\n",
        "3. Isabella\n",
        "\n",
        "Read about triplets [here](https://en.wikipedia.org/wiki/Multiple_birth#Triplets).\n",
        "\n"
      ],
      "metadata": {
        "id": "ENeQvkCqNGXg"
      }
    }
  ]
}